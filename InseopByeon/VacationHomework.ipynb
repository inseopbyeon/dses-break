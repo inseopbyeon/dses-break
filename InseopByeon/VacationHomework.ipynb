{
 "cells": [
  {
   "cell_type": "code",
   "execution_count": null,
   "metadata": {},
   "outputs": [],
   "source": [
    "# import block\n",
    "import json\n",
    "from time import sleep\n",
    "import requests\n",
    "import lxml\n",
    "from bs4 import BeautifulSoup\n",
    "from selenium import webdriver\n",
    "import sqlite3 as lite\n",
    "import pandas as pd\n",
    "from pymongo import MongoClient"
   ]
  },
  {
   "cell_type": "markdown",
   "metadata": {},
   "source": [
    "# Vacation Homework"
   ]
  },
  {
   "cell_type": "markdown",
   "metadata": {},
   "source": [
    "## Q1. Python Basic, Web Scraping, RDBMS, SQL\n",
    "\n",
    "### Q1-1\n",
    "\n",
    "`Ancient Egyptian multiplication`(one of two multiplication methods used by scribes, was a systematic method for multiplying two numbers that does not require the multiplication table, only the ability to multiply and divide by 2, and to add.) 을 Python 으로 구현하세요.\n",
    "\n",
    "example output)\n",
    "\n",
    "```\n",
    "enter two numbers: 24 15\n",
    "  24      15 struck\n",
    "  12      30 struck\n",
    "   6      60 struck\n",
    "   3     120 keep\n",
    "   1     240 keep\n",
    "The result is 360\n",
    "```"
   ]
  },
  {
   "cell_type": "code",
   "execution_count": 31,
   "metadata": {},
   "outputs": [
    {
     "name": "stdout",
     "output_type": "stream",
     "text": [
      "Type two numbers with space:36 12\n",
      "36\t12\tstruck\n",
      "18\t24\tstruck\n",
      "9\t48\tkeep\n",
      "4\t96\tstruck\n",
      "2\t192\tstruck\n",
      "1\t384\tkeep\n",
      "The result is 432.\n"
     ]
    }
   ],
   "source": [
    "# Q1-1\n",
    "input_nums=input(\"Type two numbers with space:\")\n",
    "num1=int(input_nums.split(' ')[0])\n",
    "num2=int(input_nums.split(' ')[1])\n",
    "\n",
    "i=0\n",
    "result=0\n",
    "while True:\n",
    "    num1 //= 2**(0 if i==0 else 1)\n",
    "    num2 *= 2**(0 if i==0 else 1)\n",
    "    i +=1\n",
    "    \n",
    "    if num1 % 2 == 0:\n",
    "        sign = \"struck\"\n",
    "    else: \n",
    "        sign = \"keep\"\n",
    "        result += num2\n",
    "    \n",
    "    print(num1, num2, sign, sep=\"\\t\")\n",
    "        \n",
    "    if num1==1:\n",
    "        break\n",
    "print(\"The result is {result}.\".format(result=result))"
   ]
  },
  {
   "cell_type": "code",
   "execution_count": 21,
   "metadata": {},
   "outputs": [
    {
     "data": {
      "text/plain": [
       "0"
      ]
     },
     "execution_count": 21,
     "metadata": {},
     "output_type": "execute_result"
    }
   ],
   "source": [
    "i=10\n",
    "value =( 0 if i==10 else 1)\n",
    "value"
   ]
  },
  {
   "cell_type": "markdown",
   "metadata": {},
   "source": [
    "### Q1-2\n",
    "\n",
    "Twitter의 `#asiancup` 에 대한 트윗 검색결과(https://twitter.com/search?q=%23asiancup)를 sqlite 를 활용한 database에 적재하세요.\n",
    "(10회 스크롤 했을 때의 트윗 본문 전체(이미지 제외))\n",
    "\n",
    "`Requirements: selenium, sqlite3`\n",
    "\n",
    "- **Caution** : https://twitter.com/robots.txt 의 지침을 따르세요.\n",
    "\n",
    "```\n",
    "# Every bot that might possibly read and respect this file.\n",
    "User-agent: *\n",
    "Allow: /*?lang=\n",
    "Allow: /hashtag/*?src=\n",
    "Allow: /search?q=%23\n",
    "Disallow: /search/realtime\n",
    "Disallow: /search/users\n",
    "Disallow: /search/*/grid\n",
    "\n",
    "Disallow: /*?\n",
    "Disallow: /*/followers\n",
    "Disallow: /*/following\n",
    "\n",
    "Disallow: /account/not_my_account\n",
    "Disallow: /account/deactivated\n",
    "Disallow: /settings/deactivated\n",
    "\n",
    "Disallow: /oauth\n",
    "Disallow: /1/oauth\n",
    "\n",
    "Disallow: /i/streams\n",
    "Disallow: /i/hello\n",
    "\n",
    "# Wait 1 second between successive requests. See ONBOARD-2698 for details.\n",
    "Crawl-delay: 1\n",
    "```"
   ]
  },
  {
   "cell_type": "code",
   "execution_count": null,
   "metadata": {},
   "outputs": [],
   "source": [
    "#Q1-2"
   ]
  },
  {
   "cell_type": "markdown",
   "metadata": {},
   "source": [
    "## Q2. SQL, RDBMS\n",
    "\n",
    "`products.db` 에 대하여 다음 문제를 해결하세요.\n",
    "\n",
    "### Q2-1\n",
    "\n",
    "`products.db`에 존재하는 모든 `table`과 `column`을 조회하세요."
   ]
  },
  {
   "cell_type": "code",
   "execution_count": null,
   "metadata": {},
   "outputs": [],
   "source": [
    "#Q2-1"
   ]
  },
  {
   "cell_type": "code",
   "execution_count": null,
   "metadata": {},
   "outputs": [],
   "source": []
  },
  {
   "cell_type": "markdown",
   "metadata": {},
   "source": [
    "### Q2-2\n",
    "\n",
    "`Customer`의 `Country`가 \"Germany\" 이거나 `City`가 \"London\" 인 모든 주문의 주문양(`Quantity`)의 합을 조회하세요."
   ]
  },
  {
   "cell_type": "code",
   "execution_count": null,
   "metadata": {},
   "outputs": [],
   "source": [
    "#Q2-2"
   ]
  },
  {
   "cell_type": "markdown",
   "metadata": {},
   "source": [
    "### Q2-3\n",
    "\n",
    "월별 총 주문 횟수와 총 주문 갯수, 평균 주문 금액(소수점 2째 자리에서 반올림)을 조회하세요.\n",
    "(총 주문 횟수를 기준으로 내림차순 정렬)"
   ]
  },
  {
   "cell_type": "code",
   "execution_count": null,
   "metadata": {},
   "outputs": [],
   "source": [
    "#Q2-3"
   ]
  },
  {
   "cell_type": "markdown",
   "metadata": {},
   "source": [
    "## Q3. noSQL, json, Web Scraping\n",
    "\n",
    "### Q3-1\n",
    "\n",
    "다음 금융 시가총액 페이지(http://finance.daum.net/domestic/market_cap) 에서 KOSPI200 상위 30개 종목에 대하여,\n",
    "뉴스공시 탭의 종목뉴스 최신 100개를 가져와 mLab의 새로운 Collection을 생성하여 저장한 뒤, 모든 뉴스의 `title`, `keywords`, `createdAt` 값을 표현하세요.\n",
    "\n",
    "`Requirements: requests, json, pymongo`\n",
    "\n",
    "hint1: \n",
    "```python\n",
    "headers = {\"Host\":\"finance.daum.net\"}\n",
    "requests.get(url, headers=headers)\n",
    "```\n",
    "\n",
    "hint2: `some_collection.find(query, {'_id':0,'title':1,})`\n",
    "\n",
    "<img src=\"./daum-finance-news.png\" width=\"300\">"
   ]
  },
  {
   "cell_type": "code",
   "execution_count": null,
   "metadata": {},
   "outputs": [],
   "source": [
    "#Q3-1"
   ]
  },
  {
   "cell_type": "code",
   "execution_count": null,
   "metadata": {},
   "outputs": [],
   "source": []
  },
  {
   "cell_type": "markdown",
   "metadata": {},
   "source": [
    "### Q3-2\n",
    "위(mLab Collection)에서 불러온 모든 데이터에 대하여 각 종목별 `keywords`와 그 갯수를 표현하는 `dictionary`를 생성하여 quotes 라는 리스트에 적재하세요.\n",
    "\n",
    "`Requirements: json, pymongo`\n",
    "\n",
    "ex)\n",
    "```python\n",
    "quotes=[\n",
    "    {\n",
    "    'code':'A005930',\n",
    "    'keywords':{\n",
    "        '2018년':1,\n",
    "        '매출액':2,\n",
    "        ...\n",
    "        }\n",
    "    },\n",
    "...\n",
    "]\n",
    "```"
   ]
  },
  {
   "cell_type": "code",
   "execution_count": null,
   "metadata": {},
   "outputs": [],
   "source": [
    "#Q3-2"
   ]
  },
  {
   "cell_type": "markdown",
   "metadata": {},
   "source": [
    "## Q3-3\n",
    "불러온 quotes에 대하여 상위 30개 종목 별 keyword 리스트의 갯수를 구하세요.\n",
    "\n",
    "hint: \n",
    "\n",
    "```python\n",
    "len_count = {}\n",
    "for i in map(len, a_words):\n",
    "\tif i in len_count:\n",
    "\t\tlen_count[i] += 1\n",
    "\telse:\n",
    "\t\tlen_count[i] = 1\n",
    "```"
   ]
  },
  {
   "cell_type": "code",
   "execution_count": null,
   "metadata": {},
   "outputs": [],
   "source": [
    "#Q3-3"
   ]
  }
 ],
 "metadata": {
  "kernelspec": {
   "display_name": "Python 3",
   "language": "python",
   "name": "python3"
  },
  "language_info": {
   "codemirror_mode": {
    "name": "ipython",
    "version": 3
   },
   "file_extension": ".py",
   "mimetype": "text/x-python",
   "name": "python",
   "nbconvert_exporter": "python",
   "pygments_lexer": "ipython3",
   "version": "3.7.1"
  }
 },
 "nbformat": 4,
 "nbformat_minor": 2
}
