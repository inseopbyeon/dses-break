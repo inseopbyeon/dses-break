{
 "cells": [
  {
   "cell_type": "code",
   "execution_count": 2,
   "metadata": {},
   "outputs": [],
   "source": [
    "# import block\n",
    "import json\n",
    "import re\n",
    "from time import sleep\n",
    "import requests\n",
    "import lxml\n",
    "from bs4 import BeautifulSoup\n",
    "from selenium import webdriver\n",
    "import sqlite3 as lite\n",
    "import pandas as pd\n",
    "from pymongo import MongoClient"
   ]
  },
  {
   "cell_type": "markdown",
   "metadata": {},
   "source": [
    "# Vacation Homework"
   ]
  },
  {
   "cell_type": "markdown",
   "metadata": {},
   "source": [
    "## Q1. Python Basic, Web Scraping, RDBMS, SQL\n",
    "\n",
    "### Q1-1\n",
    "\n",
    "`Ancient Egyptian multiplication`(one of two multiplication methods used by scribes, was a systematic method for multiplying two numbers that does not require the multiplication table, only the ability to multiply and divide by 2, and to add.) 을 Python 으로 구현하세요.\n",
    "\n",
    "example output)\n",
    "\n",
    "```\n",
    "enter two numbers: 24 15\n",
    "  24      15 struck\n",
    "  12      30 struck\n",
    "   6      60 struck\n",
    "   3     120 keep\n",
    "   1     240 keep\n",
    "The result is 360\n",
    "```"
   ]
  },
  {
   "cell_type": "code",
   "execution_count": 31,
   "metadata": {},
   "outputs": [
    {
     "name": "stdout",
     "output_type": "stream",
     "text": [
      "Type two numbers with space:36 12\n",
      "36\t12\tstruck\n",
      "18\t24\tstruck\n",
      "9\t48\tkeep\n",
      "4\t96\tstruck\n",
      "2\t192\tstruck\n",
      "1\t384\tkeep\n",
      "The result is 432.\n"
     ]
    }
   ],
   "source": [
    "# Q1-1\n",
    "input_nums=input(\"Type two numbers with space:\")\n",
    "num1=int(input_nums.split(' ')[0])\n",
    "num2=int(input_nums.split(' ')[1])\n",
    "\n",
    "i=0\n",
    "result=0\n",
    "while True:\n",
    "    num1 //= 2**(0 if i==0 else 1)\n",
    "    num2 *= 2**(0 if i==0 else 1)\n",
    "    i +=1\n",
    "    \n",
    "    if num1 % 2 == 0:\n",
    "        sign = \"struck\"\n",
    "    else: \n",
    "        sign = \"keep\"\n",
    "        result += num2\n",
    "    \n",
    "    print(num1, num2, sign, sep=\"\\t\")\n",
    "        \n",
    "    if num1==1:\n",
    "        break\n",
    "print(\"The result is {result}.\".format(result=result))"
   ]
  },
  {
   "cell_type": "code",
   "execution_count": 21,
   "metadata": {},
   "outputs": [
    {
     "data": {
      "text/plain": [
       "0"
      ]
     },
     "execution_count": 21,
     "metadata": {},
     "output_type": "execute_result"
    }
   ],
   "source": [
    "i=10\n",
    "value =( 0 if i==10 else 1)\n",
    "value"
   ]
  },
  {
   "cell_type": "markdown",
   "metadata": {},
   "source": [
    "### Q1-2\n",
    "\n",
    "Twitter의 `#asiancup` 에 대한 트윗 검색결과(https://twitter.com/search?q=%23asiancup)를 sqlite 를 활용한 database에 적재하세요.\n",
    "(10회 스크롤 했을 때의 트윗 본문 전체(이미지 제외))\n",
    "\n",
    "`Requirements: selenium, sqlite3`\n",
    "\n",
    "- **Caution** : https://twitter.com/robots.txt 의 지침을 따르세요.\n",
    "\n",
    "```\n",
    "# Every bot that might possibly read and respect this file.\n",
    "User-agent: *\n",
    "Allow: /*?lang=\n",
    "Allow: /hashtag/*?src=\n",
    "Allow: /search?q=%23\n",
    "Disallow: /search/realtime\n",
    "Disallow: /search/users\n",
    "Disallow: /search/*/grid\n",
    "\n",
    "Disallow: /*?\n",
    "Disallow: /*/followers\n",
    "Disallow: /*/following\n",
    "\n",
    "Disallow: /account/not_my_account\n",
    "Disallow: /account/deactivated\n",
    "Disallow: /settings/deactivated\n",
    "\n",
    "Disallow: /oauth\n",
    "Disallow: /1/oauth\n",
    "\n",
    "Disallow: /i/streams\n",
    "Disallow: /i/hello\n",
    "\n",
    "# Wait 1 second between successive requests. See ONBOARD-2698 for details.\n",
    "Crawl-delay: 1\n",
    "```"
   ]
  },
  {
   "cell_type": "code",
   "execution_count": null,
   "metadata": {},
   "outputs": [],
   "source": [
    "#Q1-2"
   ]
  },
  {
   "cell_type": "markdown",
   "metadata": {},
   "source": [
    "## Q2. SQL, RDBMS\n",
    "\n",
    "`products.db` 에 대하여 다음 문제를 해결하세요.\n",
    "\n",
    "### Q2-1\n",
    "\n",
    "`products.db`에 존재하는 모든 `table`과 `column`을 조회하세요."
   ]
  },
  {
   "cell_type": "code",
   "execution_count": null,
   "metadata": {},
   "outputs": [],
   "source": [
    "#Q2-1"
   ]
  },
  {
   "cell_type": "code",
   "execution_count": null,
   "metadata": {},
   "outputs": [],
   "source": []
  },
  {
   "cell_type": "markdown",
   "metadata": {},
   "source": [
    "### Q2-2\n",
    "\n",
    "`Customer`의 `Country`가 \"Germany\" 이거나 `City`가 \"London\" 인 모든 주문의 주문양(`Quantity`)의 합을 조회하세요."
   ]
  },
  {
   "cell_type": "code",
   "execution_count": null,
   "metadata": {},
   "outputs": [],
   "source": [
    "#Q2-2"
   ]
  },
  {
   "cell_type": "markdown",
   "metadata": {},
   "source": [
    "### Q2-3\n",
    "\n",
    "월별 총 주문 횟수와 총 주문 갯수, 평균 주문 금액(소수점 2째 자리에서 반올림)을 조회하세요.\n",
    "(총 주문 횟수를 기준으로 내림차순 정렬)"
   ]
  },
  {
   "cell_type": "code",
   "execution_count": null,
   "metadata": {},
   "outputs": [],
   "source": [
    "#Q2-3"
   ]
  },
  {
   "cell_type": "markdown",
   "metadata": {},
   "source": [
    "## Q3. noSQL, json, Web Scraping\n",
    "\n",
    "### Q3-1\n",
    "\n",
    "다음 금융 시가총액 페이지(http://finance.daum.net/domestic/market_cap) 에서 KOSPI200 상위 30개 종목에 대하여,\n",
    "뉴스공시 탭의 종목뉴스 최신 100개를 가져와 mLab의 새로운 Collection을 생성하여 저장한 뒤, 모든 뉴스의 `title`, `keywords`, `createdAt` 값을 표현하세요.\n",
    "\n",
    "`Requirements: requests, json, pymongo`\n",
    "\n",
    "hint1: \n",
    "```python\n",
    "headers = {\"Host\":\"finance.daum.net\"}\n",
    "requests.get(url, headers=headers)\n",
    "```\n",
    "\n",
    "hint2: `some_collection.find(query, {'_id':0,'title':1,})`\n",
    "\n",
    "<img src=\"./daum-finance-news.png\" width=\"300\">"
   ]
  },
  {
   "cell_type": "code",
   "execution_count": 11,
   "metadata": {},
   "outputs": [],
   "source": [
    "ch_driver = webdriver.Chrome('../../chromedriver.exe')"
   ]
  },
  {
   "cell_type": "code",
   "execution_count": 6,
   "metadata": {},
   "outputs": [],
   "source": [
    "url_1= 'http://finance.daum.net/domestic/market_cap'\n",
    "ch_driver.get(url_1)"
   ]
  },
  {
   "cell_type": "code",
   "execution_count": 5,
   "metadata": {},
   "outputs": [
    {
     "data": {
      "text/plain": [
       "'A005380'"
      ]
     },
     "execution_count": 5,
     "metadata": {},
     "output_type": "execute_result"
    }
   ],
   "source": [
    "trs = ch_driver.find_elements_by_xpath('//*[@id=\"boxMarketCap\"]/div[2]/div/table/tbody/tr/td[2]/a')\n",
    "trs[4].get_attribute('href').split('/')[-1]"
   ]
  },
  {
   "cell_type": "code",
   "execution_count": 6,
   "metadata": {},
   "outputs": [],
   "source": [
    "# trs = ch_driver.find_elements_by_css_selector('#boxMarketCap > div.box_contents > div > table > tbody > tr > td:nth-child(2) > a')\n",
    "# trs[4].get_attribute('href').split('/')[-1]"
   ]
  },
  {
   "cell_type": "code",
   "execution_count": 7,
   "metadata": {},
   "outputs": [
    {
     "data": {
      "text/plain": [
       "['A005930',\n",
       " 'A000660',\n",
       " 'A005935',\n",
       " 'A051910',\n",
       " 'A005380',\n",
       " 'A068270',\n",
       " 'A207940',\n",
       " 'A005490',\n",
       " 'A015760',\n",
       " 'A028260',\n",
       " 'A012330',\n",
       " 'A017670',\n",
       " 'A035420',\n",
       " 'A055550',\n",
       " 'A051900',\n",
       " 'A105560',\n",
       " 'A034730',\n",
       " 'A032830',\n",
       " 'A018260',\n",
       " 'A096770',\n",
       " 'A006400',\n",
       " 'A000270',\n",
       " 'A000810',\n",
       " 'A033780',\n",
       " 'A003550',\n",
       " 'A066570',\n",
       " 'A086790',\n",
       " 'A090430',\n",
       " 'A010950',\n",
       " 'A011170']"
      ]
     },
     "execution_count": 7,
     "metadata": {},
     "output_type": "execute_result"
    }
   ],
   "source": [
    "ksp30 = [tr.get_attribute('href').split('/')[-1] for tr in trs]\n",
    "ksp30"
   ]
  },
  {
   "cell_type": "code",
   "execution_count": 8,
   "metadata": {},
   "outputs": [
    {
     "ename": "NameError",
     "evalue": "name 'a' is not defined",
     "output_type": "error",
     "traceback": [
      "\u001b[1;31m---------------------------------------------------------------------------\u001b[0m",
      "\u001b[1;31mNameError\u001b[0m                                 Traceback (most recent call last)",
      "\u001b[1;32m<ipython-input-8-00c515e1cd40>\u001b[0m in \u001b[0;36m<module>\u001b[1;34m\u001b[0m\n\u001b[0;32m      1\u001b[0m \u001b[1;31m# a = 'http://finance.daum.net/quotes/A005930'\u001b[0m\u001b[1;33m\u001b[0m\u001b[1;33m\u001b[0m\u001b[1;33m\u001b[0m\u001b[0m\n\u001b[1;32m----> 2\u001b[1;33m \u001b[0ma\u001b[0m\u001b[1;33m[\u001b[0m\u001b[0mre\u001b[0m\u001b[1;33m.\u001b[0m\u001b[0msearch\u001b[0m\u001b[1;33m(\u001b[0m\u001b[1;34m\"[A-Z][0-9]{6}$\"\u001b[0m\u001b[1;33m,\u001b[0m\u001b[0ma\u001b[0m\u001b[1;33m)\u001b[0m\u001b[1;33m.\u001b[0m\u001b[0mstart\u001b[0m\u001b[1;33m(\u001b[0m\u001b[1;33m)\u001b[0m\u001b[1;33m:\u001b[0m \u001b[0mre\u001b[0m\u001b[1;33m.\u001b[0m\u001b[0msearch\u001b[0m\u001b[1;33m(\u001b[0m\u001b[1;34m\"[A-Z][0-9]{6}$\"\u001b[0m\u001b[1;33m,\u001b[0m\u001b[0ma\u001b[0m\u001b[1;33m)\u001b[0m\u001b[1;33m.\u001b[0m\u001b[0mend\u001b[0m\u001b[1;33m(\u001b[0m\u001b[1;33m)\u001b[0m\u001b[1;33m]\u001b[0m\u001b[1;33m\u001b[0m\u001b[1;33m\u001b[0m\u001b[0m\n\u001b[0m\u001b[0;32m      3\u001b[0m \u001b[1;31m# rr = re.compile(\"[A-Z][0-9]{6}$\")\u001b[0m\u001b[1;33m\u001b[0m\u001b[1;33m\u001b[0m\u001b[1;33m\u001b[0m\u001b[0m\n\u001b[0;32m      4\u001b[0m \u001b[1;31m# rr.search(a)\u001b[0m\u001b[1;33m\u001b[0m\u001b[1;33m\u001b[0m\u001b[1;33m\u001b[0m\u001b[0m\n\u001b[0;32m      5\u001b[0m \u001b[1;33m\u001b[0m\u001b[0m\n",
      "\u001b[1;31mNameError\u001b[0m: name 'a' is not defined"
     ]
    }
   ],
   "source": [
    "# a = 'http://finance.daum.net/quotes/A005930'\n",
    "a[re.search(\"[A-Z][0-9]{6}$\",a).start(): re.search(\"[A-Z][0-9]{6}$\",a).end()]\n",
    "# rr = re.compile(\"[A-Z][0-9]{6}$\")\n",
    "# rr.search(a)\n",
    "\n",
    "# re.findall(\"[A-Z][0-9]{6}$\",a) # result as a list type"
   ]
  },
  {
   "cell_type": "code",
   "execution_count": 9,
   "metadata": {},
   "outputs": [
    {
     "data": {
      "text/plain": [
       "['A005930',\n",
       " 'A000660',\n",
       " 'A005935',\n",
       " 'A051910',\n",
       " 'A005380',\n",
       " 'A068270',\n",
       " 'A207940',\n",
       " 'A005490',\n",
       " 'A015760',\n",
       " 'A028260',\n",
       " 'A012330',\n",
       " 'A017670',\n",
       " 'A035420',\n",
       " 'A055550',\n",
       " 'A051900',\n",
       " 'A105560',\n",
       " 'A034730',\n",
       " 'A032830',\n",
       " 'A018260',\n",
       " 'A096770',\n",
       " 'A006400',\n",
       " 'A000270',\n",
       " 'A000810',\n",
       " 'A033780',\n",
       " 'A003550',\n",
       " 'A066570',\n",
       " 'A086790',\n",
       " 'A090430',\n",
       " 'A010950',\n",
       " 'A011170']"
      ]
     },
     "execution_count": 9,
     "metadata": {},
     "output_type": "execute_result"
    }
   ],
   "source": [
    "KSP30_=[]\n",
    "for tr in trs:\n",
    "#     print(re.findall(\"[A-Z][0-9]{6}$\", tr.get_attribute('href')))\n",
    "    KSP30_.extend(re.findall(\"[A-Z][0-9]{6}$\", tr.get_attribute('href')))\n",
    "KSP30_"
   ]
  },
  {
   "cell_type": "code",
   "execution_count": 20,
   "metadata": {},
   "outputs": [
    {
     "ename": "AttributeError",
     "evalue": "'Response' object has no attribute 'txt'",
     "output_type": "error",
     "traceback": [
      "\u001b[1;31m---------------------------------------------------------------------------\u001b[0m",
      "\u001b[1;31mAttributeError\u001b[0m                            Traceback (most recent call last)",
      "\u001b[1;32m<ipython-input-20-b16bfcbd299c>\u001b[0m in \u001b[0;36m<module>\u001b[1;34m\u001b[0m\n\u001b[0;32m      3\u001b[0m \u001b[1;31m#     print(url)\u001b[0m\u001b[1;33m\u001b[0m\u001b[1;33m\u001b[0m\u001b[1;33m\u001b[0m\u001b[0m\n\u001b[0;32m      4\u001b[0m \u001b[0mhtml\u001b[0m \u001b[1;33m=\u001b[0m \u001b[0mrequests\u001b[0m\u001b[1;33m.\u001b[0m\u001b[0mget\u001b[0m\u001b[1;33m(\u001b[0m\u001b[1;34m'http://finance.daum.net/content/news?page=1&perPage=100&category=economy&searchType=all&keyword=A005930&pagination=true'\u001b[0m\u001b[1;33m)\u001b[0m\u001b[1;33m\u001b[0m\u001b[1;33m\u001b[0m\u001b[0m\n\u001b[1;32m----> 5\u001b[1;33m \u001b[0ma\u001b[0m \u001b[1;33m=\u001b[0m \u001b[0mjson\u001b[0m\u001b[1;33m.\u001b[0m\u001b[0mload\u001b[0m\u001b[1;33m(\u001b[0m\u001b[0mhtml\u001b[0m\u001b[1;33m.\u001b[0m\u001b[0mtxt\u001b[0m\u001b[1;33m)\u001b[0m\u001b[1;33m\u001b[0m\u001b[1;33m\u001b[0m\u001b[0m\n\u001b[0m\u001b[0;32m      6\u001b[0m \u001b[1;31m# ch_driver.get('http://finance.daum.net/content/news?page=1&perPage=20&category=economy&searchType=all&keyword=A005930&pagination=true')\u001b[0m\u001b[1;33m\u001b[0m\u001b[1;33m\u001b[0m\u001b[1;33m\u001b[0m\u001b[0m\n\u001b[0;32m      7\u001b[0m \u001b[1;31m# ch_driver.get('http://www.chosun.com')\u001b[0m\u001b[1;33m\u001b[0m\u001b[1;33m\u001b[0m\u001b[1;33m\u001b[0m\u001b[0m\n",
      "\u001b[1;31mAttributeError\u001b[0m: 'Response' object has no attribute 'txt'"
     ]
    }
   ],
   "source": [
    "# for component in ksp30:\n",
    "#     url='http://finance.daum.net/content/news?page=1&perPage=%d&category=economy&searchType=all&keyword=%s&pagination=true' % (100,component)\n",
    "#     print(url)\n",
    "requests('http://finance.daum.net/content/news?page=1&perPage=100&category=economy&searchType=all&keyword=A005930&pagination=true')\n",
    "\n",
    "\n"
   ]
  },
  {
   "cell_type": "code",
   "execution_count": 26,
   "metadata": {},
   "outputs": [
    {
     "data": {
      "text/plain": [
       "{'rank': 1,\n",
       " 'name': '삼성전자',\n",
       " 'symbolCode': 'A005930',\n",
       " 'code': 'KR7005930003',\n",
       " 'tradePrice': 47150.0,\n",
       " 'change': 'RISE',\n",
       " 'changePrice': 200.0,\n",
       " 'changeRate': 0.0042598509,\n",
       " 'marketCap': 281475247232500.0,\n",
       " 'listedShareCount': 5969782550,\n",
       " 'foreignRatio': '56.760'}"
      ]
     },
     "execution_count": 26,
     "metadata": {},
     "output_type": "execute_result"
    }
   ],
   "source": [
    "url='http://finance.daum.net/api/trend/market_capitalization?page=1&perPage=30&fieldName=marketCap&order=desc&market=KOSPI&pagination=true'\n",
    "headers={\n",
    "    'Accept': 'application/json, text/javascript, */*; q=0.01',\n",
    "    'Referer': 'http://finance.daum.net/domestic/market_cap',\n",
    "    'Save-Data': 'on',\n",
    "    'User-Agent': 'Mozilla/5.0 (Windows NT 6.1; WOW64) AppleWebKit/537.36 (KHTML, like Gecko) Chrome/72.0.3626.109 Safari/537.36',\n",
    "    'X-Requested-With': 'XMLHttpRequest'    \n",
    "}\n",
    "response = requests.get(url,headers = headers).json()\n",
    "response['data'][0]"
   ]
  },
  {
   "cell_type": "markdown",
   "metadata": {},
   "source": [
    "### Q3-2\n",
    "위(mLab Collection)에서 불러온 모든 데이터에 대하여 각 종목별 `keywords`와 그 갯수를 표현하는 `dictionary`를 생성하여 quotes 라는 리스트에 적재하세요.\n",
    "\n",
    "`Requirements: json, pymongo`\n",
    "\n",
    "ex)\n",
    "```python\n",
    "quotes=[\n",
    "    {\n",
    "    'code':'A005930',\n",
    "    'keywords':{\n",
    "        '2018년':1,\n",
    "        '매출액':2,\n",
    "        ...\n",
    "        }\n",
    "    },\n",
    "...\n",
    "]\n",
    "```"
   ]
  },
  {
   "cell_type": "code",
   "execution_count": null,
   "metadata": {},
   "outputs": [],
   "source": [
    "#Q3-2"
   ]
  },
  {
   "cell_type": "markdown",
   "metadata": {},
   "source": [
    "## Q3-3\n",
    "불러온 quotes에 대하여 상위 30개 종목 별 keyword 리스트의 갯수를 구하세요.\n",
    "\n",
    "hint: \n",
    "\n",
    "```python\n",
    "len_count = {}\n",
    "for i in map(len, a_words):\n",
    "\tif i in len_count:\n",
    "\t\tlen_count[i] += 1\n",
    "\telse:\n",
    "\t\tlen_count[i] = 1\n",
    "```"
   ]
  },
  {
   "cell_type": "code",
   "execution_count": null,
   "metadata": {},
   "outputs": [],
   "source": [
    "#Q3-3"
   ]
  }
 ],
 "metadata": {
  "kernelspec": {
   "display_name": "Python 3",
   "language": "python",
   "name": "python3"
  },
  "language_info": {
   "codemirror_mode": {
    "name": "ipython",
    "version": 3
   },
   "file_extension": ".py",
   "mimetype": "text/x-python",
   "name": "python",
   "nbconvert_exporter": "python",
   "pygments_lexer": "ipython3",
   "version": "3.7.1"
  }
 },
 "nbformat": 4,
 "nbformat_minor": 2
}
